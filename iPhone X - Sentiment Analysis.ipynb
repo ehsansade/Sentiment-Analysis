{
 "cells": [
  {
   "cell_type": "markdown",
   "metadata": {},
   "source": [
    "# iPhone X Reviews: Sentiment Analysis"
   ]
  },
  {
   "cell_type": "markdown",
   "metadata": {},
   "source": [
    "## Opinion Mining"
   ]
  },
  {
   "cell_type": "code",
   "execution_count": 1,
   "metadata": {},
   "outputs": [],
   "source": [
    "from lxml import html\n",
    "import requests\n",
    "import re\n",
    "\n",
    "url='https://www.facebook.com/plugins/feedback.php?api_key=1678638095724206&channel_url=https%3A%2F%2Fstaticxx.facebook.com%2Fconnect%2Fxd_arbiter%2Fr%2FhsBwMj6iLmk.js%3Fversion%3D42%23cb%3Df5484fdd8d9488%26domain%3Dtechcrunch.com%26origin%3Dhttps%253A%252F%252Ftechcrunch.com%252Ff7f8195ccf0fa%26relation%3Dparent.parent&href=https%3A%2F%2Ftechcrunch.com%2F2017%2F09%2F13%2Fi-dont-want-the-new-iphone-x-and-i-cant-be-alone%2F&locale=en_US&numposts=100&sdk=joey&version=v2.6&width=100%25&refsrc=https%3A%2F%2Fm.facebook.com%2Fplugins%2Fcomments.php&_rdr'\n",
    "page = requests.get(url)\n",
    "tree = html.fromstring(page.content)\n",
    "comments_section = tree.xpath('///text()')\n",
    "\n",
    "\n",
    "part1=re.split('text\":\"',comments_section[20])\n",
    "comments_list=[]\n",
    "\n",
    "for i in range(3,len(part1),2):\n",
    "    part2=re.split('\"},\"ranges\"',part1[i])\n",
    "    comment=str(part2[0])\n",
    "    comment= comment.replace(\"\\\\u2019\",\"'\")\n",
    "    comment= comment.replace(\"\\\\u00a3\",\"£\")\n",
    "    comment= comment.replace(\"u0025\",\"%\")\n",
    "    comment= comment.replace(\"u0040\",\"@\")\n",
    "    comment= comment.replace(\"\\nn\",\" \")\n",
    "    comment= comment.replace(\"\\n\",\" \")\n",
    "    comment= comment.replace(\"\\t\",\" \")\n",
    "    comment= comment.replace('\\\\', '')\n",
    "    comment= comment.replace('.t', '.')\n",
    "    comment= comment.replace('nn', '')\n",
    "    comment= comment.replace('n-n-', '')\n",
    "    comment= comment.replace('-n-n', '')\n",
    "    comment= comment.replace('. n', ' ')\n",
    "    comment= comment.replace('.  n', ' ')\n",
    "    comment= comment.replace('.n', ' ')\n",
    "    comment= comment.replace('?n', ' ')\n",
    "    comment= comment.replace('\\'',\"’\")\n",
    "    \n",
    "    comments_list.append(comment)"
   ]
  },
  {
   "cell_type": "code",
   "execution_count": 2,
   "metadata": {},
   "outputs": [
    {
     "data": {
      "text/plain": [
       "128"
      ]
     },
     "execution_count": 2,
     "metadata": {},
     "output_type": "execute_result"
    }
   ],
   "source": [
    "# if len(comments_list)==0, use comments_section[21] in the definition of part1\n",
    "len(comments_list)"
   ]
  },
  {
   "cell_type": "code",
   "execution_count": 3,
   "metadata": {},
   "outputs": [
    {
     "data": {
      "text/plain": [
       "['The most useful and accurate thing you said was \"I understand how this editorial makes me look. I’m that guy. I’m the guy at the dealership yelling at a green salesmen because the new Buick does not have an ashtray.\" Yeah. You’re that guy. And you continue to be that guy. The guy who walks through life never learning new lessons. Good luck with that.',\n",
       " 'Why spend $1000 every 2 years on a phone, when you can get last years model ... just as good in all things that matter, at almost half that price.  Those new features are lame.  Wireless buds = powerful battery inside my head.  No thanks.  Bezel-less screen ... I care because of why?  The bezel has never been a problem by the way, you don’t even see it with a phone case!  No wonder Apple is so rich.  They’ve somehow tapped into the most bilkable people in the world.',\n",
       " 'You can’t be alone and you’re not alone.  I keep reading reviews of the iphone 8 that say \"who is this phone for?\"  Um... me?  I’m giving my old iphone to my daughter so I’m in the market for a new iphone.  I’ll wait and see what consumer reaction is to the facial ID instead of touch ID.  I like leaving my phone on the table and being able to unlock it with just my finger.  Why would I want to have to my put my face near it?  That sounds aoying.  And that notch looks stupid.   I’ll get the tried-and-true design of the 8 plus for $200 less.  If it weren’t for imessage, I’d probably go back to Android.  The Galaxy 8 is gorgeous']"
      ]
     },
     "execution_count": 3,
     "metadata": {},
     "output_type": "execute_result"
    }
   ],
   "source": [
    "# Three sample comments\n",
    "comments_list[:3]"
   ]
  },
  {
   "cell_type": "markdown",
   "metadata": {},
   "source": [
    "## Data Prep for Sentiment Analysis"
   ]
  },
  {
   "cell_type": "code",
   "execution_count": 4,
   "metadata": {},
   "outputs": [
    {
     "data": {
      "text/html": [
       "<div>\n",
       "<style>\n",
       "    .dataframe thead tr:only-child th {\n",
       "        text-align: right;\n",
       "    }\n",
       "\n",
       "    .dataframe thead th {\n",
       "        text-align: left;\n",
       "    }\n",
       "\n",
       "    .dataframe tbody tr th {\n",
       "        vertical-align: top;\n",
       "    }\n",
       "</style>\n",
       "<table border=\"1\" class=\"dataframe\">\n",
       "  <thead>\n",
       "    <tr style=\"text-align: right;\">\n",
       "      <th></th>\n",
       "      <th>Product Name</th>\n",
       "      <th>Brand Name</th>\n",
       "      <th>Price</th>\n",
       "      <th>Rating</th>\n",
       "      <th>Reviews</th>\n",
       "      <th>Review Votes</th>\n",
       "    </tr>\n",
       "  </thead>\n",
       "  <tbody>\n",
       "    <tr>\n",
       "      <th>0</th>\n",
       "      <td>Apple iPhone SE Unlocked Phone - 64 GB Retail ...</td>\n",
       "      <td>Apple</td>\n",
       "      <td>514.98</td>\n",
       "      <td>5</td>\n",
       "      <td>Exactly what I wanted, fast shipping.</td>\n",
       "      <td>0.0</td>\n",
       "    </tr>\n",
       "    <tr>\n",
       "      <th>1</th>\n",
       "      <td>Apple iPhone SE Unlocked Phone - 64 GB Retail ...</td>\n",
       "      <td>Apple</td>\n",
       "      <td>514.98</td>\n",
       "      <td>5</td>\n",
       "      <td>I was a little skeptical about buying electron...</td>\n",
       "      <td>1.0</td>\n",
       "    </tr>\n",
       "    <tr>\n",
       "      <th>2</th>\n",
       "      <td>Apple iPhone SE Unlocked Phone - 64 GB Retail ...</td>\n",
       "      <td>Apple</td>\n",
       "      <td>514.98</td>\n",
       "      <td>1</td>\n",
       "      <td>Phone was not what I ordered, very disappointe...</td>\n",
       "      <td>1.0</td>\n",
       "    </tr>\n",
       "    <tr>\n",
       "      <th>3</th>\n",
       "      <td>Apple iPhone SE Unlocked Phone - 64 GB Retail ...</td>\n",
       "      <td>Apple</td>\n",
       "      <td>514.98</td>\n",
       "      <td>5</td>\n",
       "      <td>The sexy body of a 5s and the guts of a 6........</td>\n",
       "      <td>0.0</td>\n",
       "    </tr>\n",
       "    <tr>\n",
       "      <th>4</th>\n",
       "      <td>Apple iPhone SE Unlocked Phone - 64 GB Retail ...</td>\n",
       "      <td>Apple</td>\n",
       "      <td>514.98</td>\n",
       "      <td>5</td>\n",
       "      <td>Love it!</td>\n",
       "      <td>0.0</td>\n",
       "    </tr>\n",
       "  </tbody>\n",
       "</table>\n",
       "</div>"
      ],
      "text/plain": [
       "                                        Product Name Brand Name   Price  \\\n",
       "0  Apple iPhone SE Unlocked Phone - 64 GB Retail ...      Apple  514.98   \n",
       "1  Apple iPhone SE Unlocked Phone - 64 GB Retail ...      Apple  514.98   \n",
       "2  Apple iPhone SE Unlocked Phone - 64 GB Retail ...      Apple  514.98   \n",
       "3  Apple iPhone SE Unlocked Phone - 64 GB Retail ...      Apple  514.98   \n",
       "4  Apple iPhone SE Unlocked Phone - 64 GB Retail ...      Apple  514.98   \n",
       "\n",
       "   Rating                                            Reviews  Review Votes  \n",
       "0       5              Exactly what I wanted, fast shipping.           0.0  \n",
       "1       5  I was a little skeptical about buying electron...           1.0  \n",
       "2       1  Phone was not what I ordered, very disappointe...           1.0  \n",
       "3       5  The sexy body of a 5s and the guts of a 6........           0.0  \n",
       "4       5                                           Love it!           0.0  "
      ]
     },
     "execution_count": 4,
     "metadata": {},
     "output_type": "execute_result"
    }
   ],
   "source": [
    "import pandas as pd\n",
    "import numpy as np\n",
    "\n",
    "# Read in the data\n",
    "df1 = pd.read_csv('https://raw.githubusercontent.com/ehsansade/Sentiment-Analysis/master/Amazon_Unlocked_Mobile_Reviews1.csv')\n",
    "df2 = pd.read_csv('https://raw.githubusercontent.com/ehsansade/Sentiment-Analysis/master/Amazon_Unlocked_Mobile_Reviews2.csv')\n",
    "\n",
    "df=pd.concat([df1,df2],ignore_index=True)\n",
    "\n",
    "\n",
    "df.head()"
   ]
  },
  {
   "cell_type": "code",
   "execution_count": 5,
   "metadata": {},
   "outputs": [
    {
     "data": {
      "text/html": [
       "<div>\n",
       "<style>\n",
       "    .dataframe thead tr:only-child th {\n",
       "        text-align: right;\n",
       "    }\n",
       "\n",
       "    .dataframe thead th {\n",
       "        text-align: left;\n",
       "    }\n",
       "\n",
       "    .dataframe tbody tr th {\n",
       "        vertical-align: top;\n",
       "    }\n",
       "</style>\n",
       "<table border=\"1\" class=\"dataframe\">\n",
       "  <thead>\n",
       "    <tr style=\"text-align: right;\">\n",
       "      <th></th>\n",
       "      <th>Product Name</th>\n",
       "      <th>Brand Name</th>\n",
       "      <th>Price</th>\n",
       "      <th>Rating</th>\n",
       "      <th>Reviews</th>\n",
       "      <th>Review Votes</th>\n",
       "      <th>Positively Rated</th>\n",
       "    </tr>\n",
       "  </thead>\n",
       "  <tbody>\n",
       "    <tr>\n",
       "      <th>0</th>\n",
       "      <td>Apple iPhone SE Unlocked Phone - 64 GB Retail ...</td>\n",
       "      <td>Apple</td>\n",
       "      <td>514.98</td>\n",
       "      <td>5</td>\n",
       "      <td>Exactly what I wanted, fast shipping.</td>\n",
       "      <td>0.0</td>\n",
       "      <td>1</td>\n",
       "    </tr>\n",
       "    <tr>\n",
       "      <th>1</th>\n",
       "      <td>Apple iPhone SE Unlocked Phone - 64 GB Retail ...</td>\n",
       "      <td>Apple</td>\n",
       "      <td>514.98</td>\n",
       "      <td>5</td>\n",
       "      <td>I was a little skeptical about buying electron...</td>\n",
       "      <td>1.0</td>\n",
       "      <td>1</td>\n",
       "    </tr>\n",
       "    <tr>\n",
       "      <th>2</th>\n",
       "      <td>Apple iPhone SE Unlocked Phone - 64 GB Retail ...</td>\n",
       "      <td>Apple</td>\n",
       "      <td>514.98</td>\n",
       "      <td>1</td>\n",
       "      <td>Phone was not what I ordered, very disappointe...</td>\n",
       "      <td>1.0</td>\n",
       "      <td>0</td>\n",
       "    </tr>\n",
       "    <tr>\n",
       "      <th>3</th>\n",
       "      <td>Apple iPhone SE Unlocked Phone - 64 GB Retail ...</td>\n",
       "      <td>Apple</td>\n",
       "      <td>514.98</td>\n",
       "      <td>5</td>\n",
       "      <td>The sexy body of a 5s and the guts of a 6........</td>\n",
       "      <td>0.0</td>\n",
       "      <td>1</td>\n",
       "    </tr>\n",
       "    <tr>\n",
       "      <th>4</th>\n",
       "      <td>Apple iPhone SE Unlocked Phone - 64 GB Retail ...</td>\n",
       "      <td>Apple</td>\n",
       "      <td>514.98</td>\n",
       "      <td>5</td>\n",
       "      <td>Love it!</td>\n",
       "      <td>0.0</td>\n",
       "      <td>1</td>\n",
       "    </tr>\n",
       "  </tbody>\n",
       "</table>\n",
       "</div>"
      ],
      "text/plain": [
       "                                        Product Name Brand Name   Price  \\\n",
       "0  Apple iPhone SE Unlocked Phone - 64 GB Retail ...      Apple  514.98   \n",
       "1  Apple iPhone SE Unlocked Phone - 64 GB Retail ...      Apple  514.98   \n",
       "2  Apple iPhone SE Unlocked Phone - 64 GB Retail ...      Apple  514.98   \n",
       "3  Apple iPhone SE Unlocked Phone - 64 GB Retail ...      Apple  514.98   \n",
       "4  Apple iPhone SE Unlocked Phone - 64 GB Retail ...      Apple  514.98   \n",
       "\n",
       "   Rating                                            Reviews  Review Votes  \\\n",
       "0       5              Exactly what I wanted, fast shipping.           0.0   \n",
       "1       5  I was a little skeptical about buying electron...           1.0   \n",
       "2       1  Phone was not what I ordered, very disappointe...           1.0   \n",
       "3       5  The sexy body of a 5s and the guts of a 6........           0.0   \n",
       "4       5                                           Love it!           0.0   \n",
       "\n",
       "   Positively Rated  \n",
       "0                 1  \n",
       "1                 1  \n",
       "2                 0  \n",
       "3                 1  \n",
       "4                 1  "
      ]
     },
     "execution_count": 5,
     "metadata": {},
     "output_type": "execute_result"
    }
   ],
   "source": [
    "# Drop missing values\n",
    "df.dropna(inplace=True)\n",
    "\n",
    "# Remove any 'neutral' ratings equal to 3\n",
    "df = df[df['Rating'] != 3]\n",
    "\n",
    "# Encode 4s and 5s as 1 (rated positively)\n",
    "# Encode 1s and 2s as 0 (rated poorly)\n",
    "df['Positively Rated'] = np.where(df['Rating'] > 3, 1, 0)\n",
    "df.head()"
   ]
  },
  {
   "cell_type": "code",
   "execution_count": 6,
   "metadata": {
    "collapsed": true
   },
   "outputs": [],
   "source": [
    "from sklearn.model_selection import train_test_split\n",
    "\n",
    "# Split data into training and test sets\n",
    "X_train, X_test, y_train, y_test = train_test_split(df['Reviews'], \n",
    "                                                    df['Positively Rated'],random_state=3)"
   ]
  },
  {
   "cell_type": "markdown",
   "metadata": {},
   "source": [
    "## CountVectorizer, n-grams"
   ]
  },
  {
   "cell_type": "code",
   "execution_count": 7,
   "metadata": {},
   "outputs": [
    {
     "data": {
      "text/plain": [
       "103120"
      ]
     },
     "execution_count": 7,
     "metadata": {},
     "output_type": "execute_result"
    }
   ],
   "source": [
    "from sklearn.feature_extraction.text import CountVectorizer\n",
    "\n",
    "vect = CountVectorizer(min_df=5, ngram_range=(1,2)).fit(X_train)\n",
    "\n",
    "X_train_vectorized = vect.transform(X_train)\n",
    "\n",
    "len(vect.get_feature_names())"
   ]
  },
  {
   "cell_type": "code",
   "execution_count": 8,
   "metadata": {},
   "outputs": [
    {
     "name": "stdout",
     "output_type": "stream",
     "text": [
      "ROC_AUC:  0.969177058414\n"
     ]
    }
   ],
   "source": [
    "from sklearn.linear_model import LogisticRegression\n",
    "from sklearn.metrics import roc_auc_score\n",
    "\n",
    "model = LogisticRegression()\n",
    "model.fit(X_train_vectorized, y_train)\n",
    "\n",
    "predictions = model.predict(vect.transform(X_test))\n",
    "\n",
    "print('ROC_AUC: ', roc_auc_score(y_test, predictions))"
   ]
  },
  {
   "cell_type": "code",
   "execution_count": 9,
   "metadata": {},
   "outputs": [
    {
     "name": "stdout",
     "output_type": "stream",
     "text": [
      "Smallest Coefs:\n",
      "['no good' 'junk' 'worst' 'poor' 'looks ok' 'not good' 'horrible'\n",
      " 'terrible' 'not happy' 'not very']\n",
      "\n",
      "Largest Coefs: \n",
      "['excellent' 'excelent' 'excelente' 'not bad' 'no problems' 'perfect'\n",
      " 'awesome' 'exelente' 'great' 'amazing']\n"
     ]
    }
   ],
   "source": [
    "feature_names = np.array(vect.get_feature_names())\n",
    "\n",
    "sorted_coef_index = model.coef_[0].argsort()\n",
    "\n",
    "print('Smallest Coefs:\\n{}\\n'.format(feature_names[sorted_coef_index[:10]]))\n",
    "print('Largest Coefs: \\n{}'.format(feature_names[sorted_coef_index[:-11:-1]]))"
   ]
  },
  {
   "cell_type": "code",
   "execution_count": 10,
   "metadata": {},
   "outputs": [
    {
     "name": "stdout",
     "output_type": "stream",
     "text": [
      "[1 0]\n"
     ]
    }
   ],
   "source": [
    "# check the model to see if it correctly identifies a positive review\n",
    "print(model.predict(vect.transform(['not an issue, phone is working',\n",
    "                                    'an issue, phone is not working'])))"
   ]
  },
  {
   "cell_type": "markdown",
   "metadata": {},
   "source": [
    "## Sentiment Analysis for iPhone X"
   ]
  },
  {
   "cell_type": "code",
   "execution_count": 11,
   "metadata": {},
   "outputs": [
    {
     "name": "stdout",
     "output_type": "stream",
     "text": [
      "[1 1 1 1 0 1 1 0 1 1 0 1 1 1 0 0 0 0 0 0 0 1 1 1 0 1 0 0 0 0 1 1 0 0 0 1 1\n",
      " 1 0 0 1 1 0 0 1 1 0 0 1 1 1 1 1 1 0 0 1 0 1 1 1 1 0 0 1 1 0 1 1 1 1 1 1 0\n",
      " 0 1 0 0 0 0 0 0 1 0 1 0 1 0 1 1 1 1 1 1 1 1 0 1 1 1 1 0 0 0 1 0 1 1 1 1 1\n",
      " 0 1 1 1 1 0 1 1 1 1 1 0 1 1 1 1 0]\n"
     ]
    }
   ],
   "source": [
    "comments_positivity=model.predict(vect.transform(comments_list))\n",
    "print(comments_positivity)"
   ]
  },
  {
   "cell_type": "code",
   "execution_count": 12,
   "metadata": {},
   "outputs": [
    {
     "data": {
      "text/plain": [
       "0.609375"
      ]
     },
     "execution_count": 12,
     "metadata": {},
     "output_type": "execute_result"
    }
   ],
   "source": [
    "comments_positivity.mean()"
   ]
  }
 ],
 "metadata": {
  "kernelspec": {
   "display_name": "Python 3",
   "language": "python",
   "name": "python3"
  },
  "language_info": {
   "codemirror_mode": {
    "name": "ipython",
    "version": 3
   },
   "file_extension": ".py",
   "mimetype": "text/x-python",
   "name": "python",
   "nbconvert_exporter": "python",
   "pygments_lexer": "ipython3",
   "version": "3.6.1"
  }
 },
 "nbformat": 4,
 "nbformat_minor": 2
}
